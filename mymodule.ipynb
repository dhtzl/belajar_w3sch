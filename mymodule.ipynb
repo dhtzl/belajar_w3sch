{
 "cells": [
  {
   "cell_type": "code",
   "execution_count": 1,
   "metadata": {},
   "outputs": [
    {
     "ename": "ModuleNotFoundError",
     "evalue": "No module named 'mymodule'",
     "output_type": "error",
     "traceback": [
      "\u001b[0;31m---------------------------------------------------------------------------\u001b[0m",
      "\u001b[0;31mModuleNotFoundError\u001b[0m                       Traceback (most recent call last)",
      "Cell \u001b[0;32mIn [1], line 4\u001b[0m\n\u001b[1;32m      2\u001b[0m     \u001b[38;5;28mprint\u001b[39m(\u001b[38;5;124m\"\u001b[39m\u001b[38;5;124mHello, \u001b[39m\u001b[38;5;124m\"\u001b[39m \u001b[38;5;241m+\u001b[39m name)\n\u001b[1;32m      3\u001b[0m \u001b[38;5;66;03m#++++++++++++++++++++++++++++++++++++++++++++++++#\u001b[39;00m\n\u001b[0;32m----> 4\u001b[0m \u001b[38;5;28;01mimport\u001b[39;00m \u001b[38;5;21;01mmymodule\u001b[39;00m\n\u001b[1;32m      5\u001b[0m mymodule\u001b[38;5;241m.\u001b[39mgreeting(\u001b[38;5;124m\"\u001b[39m\u001b[38;5;124mAnarchaoz\u001b[39m\u001b[38;5;124m\"\u001b[39m)\n\u001b[1;32m      6\u001b[0m \u001b[38;5;66;03m#++++++++++++++++++++++++++++++++++++++++++++++++#\u001b[39;00m\n",
      "\u001b[0;31mModuleNotFoundError\u001b[0m: No module named 'mymodule'"
     ]
    }
   ],
   "source": [
    "def greeting(name):\n",
    "    print(\"Hello, \" + name)\n",
    "#++++++++++++++++++++++++++++++++++++++++++++++++#\n",
    "import mymodule\n",
    "mymodule.greeting(\"Anarchaoz\")\n",
    "#++++++++++++++++++++++++++++++++++++++++++++++++#\n",
    "person1 = {\n",
    "    \"name\": \"Anarchaoz\",\n",
    "    \"age\": 25,\n",
    "    \"country\": \"Indonesia\"\n",
    "}\n",
    "#++++++++++++++++++++++++++++++++++++++++++++++++#\n",
    "import mymodule\n",
    "\n",
    "a = mymodule.person1[\"country\"]\n",
    "print(a)\n",
    "#++++++++++++++++++++++++++++++++++++++++++++++++#\n",
    "import mymodule as mx\n",
    "\n",
    "a = mx.person1[\"age\"]\n",
    "print(a)\n",
    "\n",
    "#++++++++++++++++++++++++++++++++++++++++++++++++#\n",
    "import platform\n",
    "\n",
    "x = platform.system()\n",
    "print(x)\n",
    "\n",
    "#++++++++++++++++++++++++++++++++++++++++++++++++#\n",
    "\n",
    "import platform\n",
    "x = dir(platform)\n",
    "print(x)\n",
    "\n",
    "#++++++++++++++++++++++++++++++++++++++++++++++++#\n",
    "from mymodule import person1\n",
    "\n",
    "print (person1[\"name\"])"
   ]
  }
 ],
 "metadata": {
  "kernelspec": {
   "display_name": "Python 3.8.10 64-bit",
   "language": "python",
   "name": "python3"
  },
  "language_info": {
   "codemirror_mode": {
    "name": "ipython",
    "version": 3
   },
   "file_extension": ".py",
   "mimetype": "text/x-python",
   "name": "python",
   "nbconvert_exporter": "python",
   "pygments_lexer": "ipython3",
   "version": "3.8.10"
  },
  "orig_nbformat": 4,
  "vscode": {
   "interpreter": {
    "hash": "916dbcbb3f70747c44a77c7bcd40155683ae19c65e1c03b4aa3499c5328201f1"
   }
  }
 },
 "nbformat": 4,
 "nbformat_minor": 2
}
